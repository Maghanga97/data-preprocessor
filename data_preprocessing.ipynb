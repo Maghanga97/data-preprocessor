{
 "cells": [
  {
   "cell_type": "code",
   "execution_count": 68,
   "metadata": {},
   "outputs": [],
   "source": [
    "import pandas as pd\n",
    "import numpy as np"
   ]
  },
  {
   "cell_type": "code",
   "execution_count": 69,
   "metadata": {},
   "outputs": [
    {
     "data": {
      "text/html": [
       "<div>\n",
       "<style scoped>\n",
       "    .dataframe tbody tr th:only-of-type {\n",
       "        vertical-align: middle;\n",
       "    }\n",
       "\n",
       "    .dataframe tbody tr th {\n",
       "        vertical-align: top;\n",
       "    }\n",
       "\n",
       "    .dataframe thead th {\n",
       "        text-align: right;\n",
       "    }\n",
       "</style>\n",
       "<table border=\"1\" class=\"dataframe\">\n",
       "  <thead>\n",
       "    <tr style=\"text-align: right;\">\n",
       "      <th></th>\n",
       "      <th>CLIENT CODE</th>\n",
       "      <th>GENDER</th>\n",
       "      <th>OWNS CAR</th>\n",
       "      <th>OCCUPATION</th>\n",
       "      <th>AVERAGE PURCHASES</th>\n",
       "      <th>NUMBER OF REFERRALS</th>\n",
       "      <th>FREQUENT CUSTOMER</th>\n",
       "    </tr>\n",
       "  </thead>\n",
       "  <tbody>\n",
       "    <tr>\n",
       "      <th>0</th>\n",
       "      <td>C001</td>\n",
       "      <td>MALE</td>\n",
       "      <td>YES</td>\n",
       "      <td>BUSINESSPERSON</td>\n",
       "      <td>1984</td>\n",
       "      <td>1.0</td>\n",
       "      <td>NO</td>\n",
       "    </tr>\n",
       "    <tr>\n",
       "      <th>1</th>\n",
       "      <td>C002</td>\n",
       "      <td>FEMALE</td>\n",
       "      <td>NO</td>\n",
       "      <td>ACCOUNTANT</td>\n",
       "      <td>2247</td>\n",
       "      <td>NaN</td>\n",
       "      <td>NO</td>\n",
       "    </tr>\n",
       "    <tr>\n",
       "      <th>2</th>\n",
       "      <td>C003</td>\n",
       "      <td>MALE</td>\n",
       "      <td>YES</td>\n",
       "      <td>HIGHSCHOOL TEACHER</td>\n",
       "      <td>2407</td>\n",
       "      <td>NaN</td>\n",
       "      <td>NO</td>\n",
       "    </tr>\n",
       "    <tr>\n",
       "      <th>3</th>\n",
       "      <td>C004</td>\n",
       "      <td>FEMALE</td>\n",
       "      <td>YES</td>\n",
       "      <td>SECURITY PERSONNEL</td>\n",
       "      <td>3366</td>\n",
       "      <td>0.0</td>\n",
       "      <td>YES</td>\n",
       "    </tr>\n",
       "    <tr>\n",
       "      <th>4</th>\n",
       "      <td>C005</td>\n",
       "      <td>FEMALE</td>\n",
       "      <td>YES</td>\n",
       "      <td>NaN</td>\n",
       "      <td>1583</td>\n",
       "      <td>9.0</td>\n",
       "      <td>YES</td>\n",
       "    </tr>\n",
       "  </tbody>\n",
       "</table>\n",
       "</div>"
      ],
      "text/plain": [
       "  CLIENT CODE  GENDER OWNS CAR          OCCUPATION  AVERAGE PURCHASES  \\\n",
       "0        C001    MALE      YES      BUSINESSPERSON               1984   \n",
       "1        C002  FEMALE       NO          ACCOUNTANT               2247   \n",
       "2        C003    MALE      YES  HIGHSCHOOL TEACHER               2407   \n",
       "3        C004  FEMALE      YES  SECURITY PERSONNEL               3366   \n",
       "4        C005  FEMALE      YES                 NaN               1583   \n",
       "\n",
       "   NUMBER OF REFERRALS FREQUENT CUSTOMER  \n",
       "0                  1.0                NO  \n",
       "1                  NaN                NO  \n",
       "2                  NaN                NO  \n",
       "3                  0.0               YES  \n",
       "4                  9.0               YES  "
      ]
     },
     "execution_count": 69,
     "metadata": {},
     "output_type": "execute_result"
    }
   ],
   "source": [
    "clients = pd.read_excel('client.xlsx')\n",
    "clients.head()"
   ]
  },
  {
   "cell_type": "code",
   "execution_count": 70,
   "metadata": {},
   "outputs": [
    {
     "data": {
      "text/html": [
       "<div>\n",
       "<style scoped>\n",
       "    .dataframe tbody tr th:only-of-type {\n",
       "        vertical-align: middle;\n",
       "    }\n",
       "\n",
       "    .dataframe tbody tr th {\n",
       "        vertical-align: top;\n",
       "    }\n",
       "\n",
       "    .dataframe thead th {\n",
       "        text-align: right;\n",
       "    }\n",
       "</style>\n",
       "<table border=\"1\" class=\"dataframe\">\n",
       "  <thead>\n",
       "    <tr style=\"text-align: right;\">\n",
       "      <th></th>\n",
       "      <th>AVERAGE PURCHASES</th>\n",
       "      <th>NUMBER OF REFERRALS</th>\n",
       "    </tr>\n",
       "  </thead>\n",
       "  <tbody>\n",
       "    <tr>\n",
       "      <th>count</th>\n",
       "      <td>118.000000</td>\n",
       "      <td>116.000000</td>\n",
       "    </tr>\n",
       "    <tr>\n",
       "      <th>mean</th>\n",
       "      <td>2297.118644</td>\n",
       "      <td>4.750000</td>\n",
       "    </tr>\n",
       "    <tr>\n",
       "      <th>std</th>\n",
       "      <td>719.509094</td>\n",
       "      <td>3.134312</td>\n",
       "    </tr>\n",
       "    <tr>\n",
       "      <th>min</th>\n",
       "      <td>1027.000000</td>\n",
       "      <td>0.000000</td>\n",
       "    </tr>\n",
       "    <tr>\n",
       "      <th>25%</th>\n",
       "      <td>1739.500000</td>\n",
       "      <td>2.000000</td>\n",
       "    </tr>\n",
       "    <tr>\n",
       "      <th>50%</th>\n",
       "      <td>2281.000000</td>\n",
       "      <td>4.000000</td>\n",
       "    </tr>\n",
       "    <tr>\n",
       "      <th>75%</th>\n",
       "      <td>2872.000000</td>\n",
       "      <td>8.000000</td>\n",
       "    </tr>\n",
       "    <tr>\n",
       "      <th>max</th>\n",
       "      <td>3479.000000</td>\n",
       "      <td>10.000000</td>\n",
       "    </tr>\n",
       "  </tbody>\n",
       "</table>\n",
       "</div>"
      ],
      "text/plain": [
       "       AVERAGE PURCHASES  NUMBER OF REFERRALS\n",
       "count         118.000000           116.000000\n",
       "mean         2297.118644             4.750000\n",
       "std           719.509094             3.134312\n",
       "min          1027.000000             0.000000\n",
       "25%          1739.500000             2.000000\n",
       "50%          2281.000000             4.000000\n",
       "75%          2872.000000             8.000000\n",
       "max          3479.000000            10.000000"
      ]
     },
     "execution_count": 70,
     "metadata": {},
     "output_type": "execute_result"
    }
   ],
   "source": [
    "clients.describe()"
   ]
  },
  {
   "cell_type": "markdown",
   "metadata": {},
   "source": [
    "Extracting the independent variables    "
   ]
  },
  {
   "cell_type": "code",
   "execution_count": 71,
   "metadata": {},
   "outputs": [
    {
     "data": {
      "text/plain": [
       "array([['MALE', 'YES', 'BUSINESSPERSON'],\n",
       "       ['FEMALE', 'NO', 'ACCOUNTANT'],\n",
       "       ['MALE', 'YES', 'HIGHSCHOOL TEACHER'],\n",
       "       ['FEMALE', 'YES', 'SECURITY PERSONNEL'],\n",
       "       ['FEMALE', 'YES', nan],\n",
       "       ['MALE', 'YES', nan],\n",
       "       ['MALE', 'NO', 'HIGHSCHOOL TEACHER'],\n",
       "       ['FEMALE', 'YES', 'BUSINESSPERSON'],\n",
       "       ['MALE', 'NO', 'SOCIAL WORKER'],\n",
       "       ['FEMALE', 'YES', 'GRADUATE INTERN'],\n",
       "       ['FEMALE', 'YES', 'FINANCIAL EXPERT'],\n",
       "       ['MALE', 'YES', 'DAY TRADER'],\n",
       "       ['MALE', 'YES', 'DAY TRADER'],\n",
       "       ['FEMALE', 'NO', 'LINGERIE MODEL'],\n",
       "       ['MALE', 'YES', 'BUSINESSPERSON'],\n",
       "       ['FEMALE', 'NO', 'ACCOUNTANT'],\n",
       "       ['FEMALE', 'YES', 'HIGHSCHOOL TEACHER'],\n",
       "       ['MALE', 'YES', 'SECURITY PERSONNEL'],\n",
       "       ['MALE', 'YES', 'ACCOUNTANT'],\n",
       "       ['FEMALE', 'YES', 'HIGHSCHOOL TEACHER'],\n",
       "       ['MALE', 'NO', 'HIGHSCHOOL TEACHER'],\n",
       "       ['FEMALE', 'YES', 'BUSINESSPERSON'],\n",
       "       ['FEMALE', 'NO', 'SOCIAL WORKER'],\n",
       "       ['MALE', 'YES', 'GRADUATE INTERN'],\n",
       "       ['MALE', 'YES', 'FINANCIAL EXPERT'],\n",
       "       ['FEMALE', 'YES', 'DAY TRADER'],\n",
       "       ['MALE', 'YES', 'DAY TRADER'],\n",
       "       ['FEMALE', 'NO', 'LINGERIE MODEL'],\n",
       "       ['FEMALE', 'NO', 'BUSINESSPERSON'],\n",
       "       ['MALE', 'YES', 'ACCOUNTANT'],\n",
       "       ['MALE', 'NO', 'HIGHSCHOOL TEACHER'],\n",
       "       ['FEMALE', 'YES', 'SECURITY PERSONNEL'],\n",
       "       ['MALE', 'YES', 'ACCOUNTANT'],\n",
       "       ['FEMALE', 'YES', 'HIGHSCHOOL TEACHER'],\n",
       "       ['FEMALE', 'NO', 'HIGHSCHOOL TEACHER'],\n",
       "       ['MALE', 'NO', 'BUSINESSPERSON'],\n",
       "       ['MALE', 'YES', 'SOCIAL WORKER'],\n",
       "       ['FEMALE', 'NO', 'GRADUATE INTERN'],\n",
       "       ['MALE', 'YES', 'FINANCIAL EXPERT'],\n",
       "       ['FEMALE', 'YES', 'DAY TRADER'],\n",
       "       ['FEMALE', 'YES', 'DAY TRADER'],\n",
       "       ['MALE', 'NO', 'LINGERIE MODEL'],\n",
       "       ['MALE', 'NO', 'BUSINESSPERSON'],\n",
       "       ['MALE', 'YES', 'ACCOUNTANT'],\n",
       "       ['FEMALE', 'NO', 'HIGHSCHOOL TEACHER'],\n",
       "       ['MALE', 'YES', 'SECURITY PERSONNEL'],\n",
       "       ['FEMALE', 'YES', 'ACCOUNTANT'],\n",
       "       ['FEMALE', 'YES', 'HIGHSCHOOL TEACHER'],\n",
       "       ['MALE', 'NO', 'HIGHSCHOOL TEACHER'],\n",
       "       ['MALE', 'NO', 'BUSINESSPERSON'],\n",
       "       ['FEMALE', 'YES', 'SOCIAL WORKER'],\n",
       "       ['MALE', 'NO', 'GRADUATE INTERN'],\n",
       "       ['FEMALE', 'YES', 'FINANCIAL EXPERT'],\n",
       "       ['FEMALE', 'YES', 'DAY TRADER'],\n",
       "       ['MALE', 'YES', 'DAY TRADER'],\n",
       "       ['MALE', 'NO', 'LINGERIE MODEL'],\n",
       "       ['FEMALE', 'NO', 'BUSINESSPERSON'],\n",
       "       ['MALE', 'YES', 'ACCOUNTANT'],\n",
       "       ['MALE', 'NO', 'HIGHSCHOOL TEACHER'],\n",
       "       ['MALE', 'YES', 'SECURITY PERSONNEL'],\n",
       "       ['FEMALE', 'YES', 'ACCOUNTANT'],\n",
       "       ['MALE', 'YES', 'HIGHSCHOOL TEACHER'],\n",
       "       ['FEMALE', 'NO', 'HIGHSCHOOL TEACHER'],\n",
       "       ['FEMALE', 'NO', 'BUSINESSPERSON'],\n",
       "       ['MALE', 'YES', 'SOCIAL WORKER'],\n",
       "       ['MALE', 'NO', 'GRADUATE INTERN'],\n",
       "       ['FEMALE', 'YES', 'FINANCIAL EXPERT'],\n",
       "       ['MALE', 'YES', 'DAY TRADER'],\n",
       "       ['FEMALE', 'YES', 'DAY TRADER'],\n",
       "       ['FEMALE', 'NO', 'LINGERIE MODEL'],\n",
       "       ['MALE', 'NO', 'BUSINESSPERSON'],\n",
       "       ['MALE', 'YES', 'ACCOUNTANT'],\n",
       "       ['FEMALE', 'NO', 'HIGHSCHOOL TEACHER'],\n",
       "       ['MALE', 'YES', 'SECURITY PERSONNEL'],\n",
       "       ['MALE', 'YES', 'ACCOUNTANT'],\n",
       "       ['MALE', 'YES', 'HIGHSCHOOL TEACHER'],\n",
       "       ['FEMALE', 'NO', 'HIGHSCHOOL TEACHER'],\n",
       "       ['MALE', 'NO', 'BUSINESSPERSON'],\n",
       "       ['FEMALE', 'YES', 'SOCIAL WORKER'],\n",
       "       ['FEMALE', 'NO', 'GRADUATE INTERN'],\n",
       "       ['MALE', 'YES', 'FINANCIAL EXPERT'],\n",
       "       ['MALE', 'YES', 'DAY TRADER'],\n",
       "       ['FEMALE', 'YES', 'DAY TRADER'],\n",
       "       ['MALE', 'NO', 'LINGERIE MODEL'],\n",
       "       ['FEMALE', 'NO', 'BUSINESSPERSON'],\n",
       "       ['FEMALE', 'YES', 'ACCOUNTANT'],\n",
       "       ['MALE', 'NO', 'HIGHSCHOOL TEACHER'],\n",
       "       ['MALE', 'YES', 'SECURITY PERSONNEL'],\n",
       "       ['FEMALE', 'YES', 'ACCOUNTANT'],\n",
       "       ['MALE', 'YES', 'HIGHSCHOOL TEACHER'],\n",
       "       ['MALE', 'NO', 'HIGHSCHOOL TEACHER'],\n",
       "       ['MALE', 'NO', 'BUSINESSPERSON'],\n",
       "       ['FEMALE', 'YES', 'SOCIAL WORKER'],\n",
       "       ['FEMALE', 'NO', 'HIGHSCHOOL TEACHER'],\n",
       "       ['MALE', 'YES', 'SECURITY PERSONNEL'],\n",
       "       ['MALE', 'YES', 'ACCOUNTANT'],\n",
       "       ['FEMALE', 'YES', 'HIGHSCHOOL TEACHER'],\n",
       "       ['MALE', 'NO', 'HIGHSCHOOL TEACHER'],\n",
       "       ['FEMALE', 'NO', 'BUSINESSPERSON'],\n",
       "       ['FEMALE', 'YES', 'SOCIAL WORKER'],\n",
       "       ['MALE', 'NO', 'HIGHSCHOOL TEACHER'],\n",
       "       ['MALE', 'YES', 'SECURITY PERSONNEL'],\n",
       "       ['FEMALE', 'YES', 'ACCOUNTANT'],\n",
       "       ['MALE', 'YES', 'HIGHSCHOOL TEACHER'],\n",
       "       ['FEMALE', 'NO', 'SECURITY PERSONNEL'],\n",
       "       ['FEMALE', 'NO', 'ACCOUNTANT'],\n",
       "       ['MALE', 'YES', 'HIGHSCHOOL TEACHER'],\n",
       "       ['MALE', 'NO', 'SECURITY PERSONNEL'],\n",
       "       ['FEMALE', 'YES', 'ACCOUNTANT'],\n",
       "       ['MALE', 'YES', 'HIGHSCHOOL TEACHER'],\n",
       "       ['FEMALE', 'YES', 'SECURITY PERSONNEL'],\n",
       "       ['FEMALE', 'NO', 'GRADUATE INTERN'],\n",
       "       ['MALE', 'NO', 'FINANCIAL EXPERT'],\n",
       "       ['MALE', 'YES', 'DAY TRADER'],\n",
       "       ['FEMALE', 'NO', 'DAY TRADER'],\n",
       "       ['MALE', 'YES', 'LINGERIE MODEL'],\n",
       "       ['FEMALE', 'YES', 'BUSINESSPERSON'],\n",
       "       ['FEMALE', 'YES', 'ACCOUNTANT']], dtype=object)"
      ]
     },
     "execution_count": 71,
     "metadata": {},
     "output_type": "execute_result"
    }
   ],
   "source": [
    "X = clients[['GENDER', 'OWNS CAR', 'OCCUPATION', 'AVERAGE PURCHASES', 'NUMBER OF REFERRALS']].values\n",
    "X[:, 0:3]"
   ]
  },
  {
   "cell_type": "markdown",
   "metadata": {},
   "source": [
    "Extracting dependent variable"
   ]
  },
  {
   "cell_type": "code",
   "execution_count": 72,
   "metadata": {},
   "outputs": [
    {
     "data": {
      "text/plain": [
       "(118,)"
      ]
     },
     "execution_count": 72,
     "metadata": {},
     "output_type": "execute_result"
    }
   ],
   "source": [
    "y = clients.iloc[:, 6]\n",
    "y.shape"
   ]
  },
  {
   "cell_type": "code",
   "execution_count": 73,
   "metadata": {},
   "outputs": [
    {
     "data": {
      "text/plain": [
       "CLIENT CODE            0\n",
       "GENDER                 0\n",
       "OWNS CAR               0\n",
       "OCCUPATION             2\n",
       "AVERAGE PURCHASES      0\n",
       "NUMBER OF REFERRALS    2\n",
       "FREQUENT CUSTOMER      0\n",
       "dtype: int64"
      ]
     },
     "execution_count": 73,
     "metadata": {},
     "output_type": "execute_result"
    }
   ],
   "source": [
    "clients.isnull().sum()"
   ]
  },
  {
   "cell_type": "markdown",
   "metadata": {},
   "source": [
    "Dealing with null values/missing values"
   ]
  },
  {
   "cell_type": "code",
   "execution_count": 74,
   "metadata": {},
   "outputs": [],
   "source": [
    "from sklearn.impute import SimpleImputer\n",
    "\n",
    "referrals_imputer = SimpleImputer(missing_values=np.nan, strategy='mean')\n",
    "occupation_imputer = SimpleImputer(missing_values=np.nan, strategy='most_frequent')\n",
    "\n",
    "referrals = referrals_imputer.fit(X[:, 4:])\n",
    "X[:, 4:] = referrals.transform(X[:, 4:])\n",
    "\n",
    "occupations = occupation_imputer.fit(X[:, 2:3])\n",
    "X[:, 2:3] = occupations.transform(X[:, 2:3])\n",
    "\n"
   ]
  },
  {
   "cell_type": "markdown",
   "metadata": {},
   "source": [
    "Dealing with categorical data/encoding categorical data"
   ]
  },
  {
   "cell_type": "code",
   "execution_count": 75,
   "metadata": {},
   "outputs": [],
   "source": [
    "from sklearn.preprocessing import LabelEncoder, OneHotEncoder\n",
    "\n",
    "encoder = LabelEncoder()\n",
    "\n",
    "X[:, 0] = encoder.fit_transform(X[:, 0])\n",
    "X[:, 2] = encoder.fit_transform(X[:, 2])\n",
    "X[:, 1] = encoder.fit_transform(X[:, 1])\n",
    "y = encoder.fit_transform(y)\n",
    "\n",
    "# using the normal encoder the model might assume that the labels have some mathematical meaning, encode accountant to 3 and teacher to 4 might mean that teacher > accountant\n",
    "# onehotencoder is used to correct for this problem\n"
   ]
  },
  {
   "cell_type": "code",
   "execution_count": 76,
   "metadata": {},
   "outputs": [
    {
     "data": {
      "text/plain": [
       "array([[0., 1., 0., ..., 0., 0., 0.],\n",
       "       [1., 0., 0., ..., 0., 0., 0.],\n",
       "       [0., 0., 0., ..., 0., 0., 0.],\n",
       "       ...,\n",
       "       [0., 0., 0., ..., 0., 0., 0.],\n",
       "       [0., 1., 0., ..., 0., 0., 0.],\n",
       "       [1., 0., 0., ..., 0., 0., 0.]])"
      ]
     },
     "execution_count": 76,
     "metadata": {},
     "output_type": "execute_result"
    }
   ],
   "source": [
    "# using the onehotencoder\n",
    "from sklearn.preprocessing import OneHotEncoder\n",
    "\n",
    "onehotencoder = OneHotEncoder()\n",
    "\n",
    "onehotencoder.fit_transform(clients['OCCUPATION'].values.reshape(-1, 1)).toarray()\n"
   ]
  },
  {
   "cell_type": "markdown",
   "metadata": {},
   "source": [
    "Feature scaling"
   ]
  },
  {
   "cell_type": "code",
   "execution_count": 77,
   "metadata": {},
   "outputs": [],
   "source": [
    "from sklearn.preprocessing import StandardScaler\n",
    "\n",
    "scaler = StandardScaler()\n"
   ]
  },
  {
   "cell_type": "markdown",
   "metadata": {},
   "source": [
    "Splitting the datasets into training and testing datasets"
   ]
  },
  {
   "cell_type": "code",
   "execution_count": 78,
   "metadata": {},
   "outputs": [
    {
     "data": {
      "text/plain": [
       "array([0, 0, 6, 1207, 3.0], dtype=object)"
      ]
     },
     "execution_count": 78,
     "metadata": {},
     "output_type": "execute_result"
    }
   ],
   "source": [
    "from sklearn.model_selection import train_test_split\n",
    "\n",
    "X_train, X_test, y_train, y_test = train_test_split(X, y, test_size=0.2, random_state=1)\n",
    "X_train[0]"
   ]
  },
  {
   "cell_type": "code",
   "execution_count": 79,
   "metadata": {},
   "outputs": [],
   "source": [
    "X_train = scaler.fit_transform(X_train)\n",
    "X_test = scaler.fit_transform(X_test)"
   ]
  },
  {
   "cell_type": "code",
   "execution_count": 80,
   "metadata": {},
   "outputs": [
    {
     "data": {
      "text/html": [
       "<style>#sk-container-id-4 {color: black;background-color: white;}#sk-container-id-4 pre{padding: 0;}#sk-container-id-4 div.sk-toggleable {background-color: white;}#sk-container-id-4 label.sk-toggleable__label {cursor: pointer;display: block;width: 100%;margin-bottom: 0;padding: 0.3em;box-sizing: border-box;text-align: center;}#sk-container-id-4 label.sk-toggleable__label-arrow:before {content: \"▸\";float: left;margin-right: 0.25em;color: #696969;}#sk-container-id-4 label.sk-toggleable__label-arrow:hover:before {color: black;}#sk-container-id-4 div.sk-estimator:hover label.sk-toggleable__label-arrow:before {color: black;}#sk-container-id-4 div.sk-toggleable__content {max-height: 0;max-width: 0;overflow: hidden;text-align: left;background-color: #f0f8ff;}#sk-container-id-4 div.sk-toggleable__content pre {margin: 0.2em;color: black;border-radius: 0.25em;background-color: #f0f8ff;}#sk-container-id-4 input.sk-toggleable__control:checked~div.sk-toggleable__content {max-height: 200px;max-width: 100%;overflow: auto;}#sk-container-id-4 input.sk-toggleable__control:checked~label.sk-toggleable__label-arrow:before {content: \"▾\";}#sk-container-id-4 div.sk-estimator input.sk-toggleable__control:checked~label.sk-toggleable__label {background-color: #d4ebff;}#sk-container-id-4 div.sk-label input.sk-toggleable__control:checked~label.sk-toggleable__label {background-color: #d4ebff;}#sk-container-id-4 input.sk-hidden--visually {border: 0;clip: rect(1px 1px 1px 1px);clip: rect(1px, 1px, 1px, 1px);height: 1px;margin: -1px;overflow: hidden;padding: 0;position: absolute;width: 1px;}#sk-container-id-4 div.sk-estimator {font-family: monospace;background-color: #f0f8ff;border: 1px dotted black;border-radius: 0.25em;box-sizing: border-box;margin-bottom: 0.5em;}#sk-container-id-4 div.sk-estimator:hover {background-color: #d4ebff;}#sk-container-id-4 div.sk-parallel-item::after {content: \"\";width: 100%;border-bottom: 1px solid gray;flex-grow: 1;}#sk-container-id-4 div.sk-label:hover label.sk-toggleable__label {background-color: #d4ebff;}#sk-container-id-4 div.sk-serial::before {content: \"\";position: absolute;border-left: 1px solid gray;box-sizing: border-box;top: 0;bottom: 0;left: 50%;z-index: 0;}#sk-container-id-4 div.sk-serial {display: flex;flex-direction: column;align-items: center;background-color: white;padding-right: 0.2em;padding-left: 0.2em;position: relative;}#sk-container-id-4 div.sk-item {position: relative;z-index: 1;}#sk-container-id-4 div.sk-parallel {display: flex;align-items: stretch;justify-content: center;background-color: white;position: relative;}#sk-container-id-4 div.sk-item::before, #sk-container-id-4 div.sk-parallel-item::before {content: \"\";position: absolute;border-left: 1px solid gray;box-sizing: border-box;top: 0;bottom: 0;left: 50%;z-index: -1;}#sk-container-id-4 div.sk-parallel-item {display: flex;flex-direction: column;z-index: 1;position: relative;background-color: white;}#sk-container-id-4 div.sk-parallel-item:first-child::after {align-self: flex-end;width: 50%;}#sk-container-id-4 div.sk-parallel-item:last-child::after {align-self: flex-start;width: 50%;}#sk-container-id-4 div.sk-parallel-item:only-child::after {width: 0;}#sk-container-id-4 div.sk-dashed-wrapped {border: 1px dashed gray;margin: 0 0.4em 0.5em 0.4em;box-sizing: border-box;padding-bottom: 0.4em;background-color: white;}#sk-container-id-4 div.sk-label label {font-family: monospace;font-weight: bold;display: inline-block;line-height: 1.2em;}#sk-container-id-4 div.sk-label-container {text-align: center;}#sk-container-id-4 div.sk-container {/* jupyter's `normalize.less` sets `[hidden] { display: none; }` but bootstrap.min.css set `[hidden] { display: none !important; }` so we also need the `!important` here to be able to override the default hidden behavior on the sphinx rendered scikit-learn.org. See: https://github.com/scikit-learn/scikit-learn/issues/21755 */display: inline-block !important;position: relative;}#sk-container-id-4 div.sk-text-repr-fallback {display: none;}</style><div id=\"sk-container-id-4\" class=\"sk-top-container\"><div class=\"sk-text-repr-fallback\"><pre>LogisticRegression()</pre><b>In a Jupyter environment, please rerun this cell to show the HTML representation or trust the notebook. <br />On GitHub, the HTML representation is unable to render, please try loading this page with nbviewer.org.</b></div><div class=\"sk-container\" hidden><div class=\"sk-item\"><div class=\"sk-estimator sk-toggleable\"><input class=\"sk-toggleable__control sk-hidden--visually\" id=\"sk-estimator-id-4\" type=\"checkbox\" checked><label for=\"sk-estimator-id-4\" class=\"sk-toggleable__label sk-toggleable__label-arrow\">LogisticRegression</label><div class=\"sk-toggleable__content\"><pre>LogisticRegression()</pre></div></div></div></div></div>"
      ],
      "text/plain": [
       "LogisticRegression()"
      ]
     },
     "execution_count": 80,
     "metadata": {},
     "output_type": "execute_result"
    }
   ],
   "source": [
    "from sklearn.linear_model import LogisticRegression\n",
    "\n",
    "model = LogisticRegression()\n",
    "\n",
    "model.fit(X_train, y_train)\n"
   ]
  },
  {
   "cell_type": "code",
   "execution_count": 81,
   "metadata": {},
   "outputs": [
    {
     "data": {
      "text/plain": [
       "0.8333333333333334"
      ]
     },
     "execution_count": 81,
     "metadata": {},
     "output_type": "execute_result"
    }
   ],
   "source": [
    "# testing results\n",
    "\n",
    "from sklearn import metrics\n",
    "\n",
    "predictions = model.predict(X_test)\n",
    "\n",
    "confusion_matrix_results = metrics.confusion_matrix(y_test, predictions)\n",
    "model_score = model.score(X_test, y_test)\n",
    "\n",
    "model_score"
   ]
  }
 ],
 "metadata": {
  "kernelspec": {
   "display_name": "Python 3.10.7 64-bit",
   "language": "python",
   "name": "python3"
  },
  "language_info": {
   "codemirror_mode": {
    "name": "ipython",
    "version": 3
   },
   "file_extension": ".py",
   "mimetype": "text/x-python",
   "name": "python",
   "nbconvert_exporter": "python",
   "pygments_lexer": "ipython3",
   "version": "3.10.7"
  },
  "orig_nbformat": 4,
  "vscode": {
   "interpreter": {
    "hash": "52634da84371cba311ea128a5ea7cdc41ff074b781779e754b270ff9f8153cee"
   }
  }
 },
 "nbformat": 4,
 "nbformat_minor": 2
}
